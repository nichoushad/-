{
 "cells": [
  {
   "cell_type": "code",
   "execution_count": 7,
   "outputs": [
    {
     "name": "stdout",
     "text": [
      "{'accuracy': 0.81, 'precision': 1.0, 'recall': 0.7724550898203593, 'train_spam_in_rows': 430, 'train_ham_in_rows': 70, 'test_spam_in_rows': 167, 'test_ham_in_rows': 33}\n",
      "{'accuracy': 0.79, 'precision': 0.9922480620155039, 'recall': 0.757396449704142, 'train_spam_in_rows': 430, 'train_ham_in_rows': 70, 'test_spam_in_rows': 167, 'test_ham_in_rows': 33}\n",
      "{'accuracy': 0.75, 'precision': 1.0, 'recall': 0.7076023391812866, 'train_spam_in_rows': 430, 'train_ham_in_rows': 70, 'test_spam_in_rows': 167, 'test_ham_in_rows': 33}\n",
      "{'accuracy': 0.77, 'precision': 1.0, 'recall': 0.7325581395348837, 'train_spam_in_rows': 430, 'train_ham_in_rows': 70, 'test_spam_in_rows': 167, 'test_ham_in_rows': 33}\n",
      "{'accuracy': 0.85, 'precision': 1.0, 'recall': 0.8235294117647058, 'train_spam_in_rows': 430, 'train_ham_in_rows': 70, 'test_spam_in_rows': 167, 'test_ham_in_rows': 33}\n",
      "训练集数量：500，测试集数量：200\n",
      "\n",
      "accuracy: 0.794 ,precision: 0.9984496124031008 ,recall: 0.7587082860010754\n"
     ],
     "output_type": "stream"
    }
   ],
   "source": [
    "import pandas as pd\n",
    "import re\n",
    "import json\n",
    "from numpy import *\n",
    "path = './result/500_200'\n",
    "str = []\n",
    "accuracy = []\n",
    "precision = []\n",
    "recall = []\n",
    "\n",
    "with open(path,'r') as f:\n",
    "    lines = f.readlines()\n",
    "for line in lines:\n",
    "    line = re.sub('\\n','',line)\n",
    "    str.append(line)\n",
    "for i in str:\n",
    "    j = json.loads(i)\n",
    "    print(j)\n",
    "    accuracy.append(j['accuracy'])\n",
    "    precision.append(j['precision'])\n",
    "    recall.append(j['recall'])\n",
    "print('训练集数量：500，测试集数量：200\\n')\n",
    "print('accuracy:',mean(accuracy),',precision:',mean(precision),',recall:',mean(recall))"
   ],
   "metadata": {
    "collapsed": false,
    "pycharm": {
     "name": "#%%\n",
     "is_executing": false
    }
   }
  },
  {
   "cell_type": "code",
   "execution_count": 8,
   "outputs": [
    {
     "name": "stdout",
     "text": [
      "{'accuracy': 0.8266666666666667, 'precision': 0.9944444444444445, 'recall': 0.7782608695652173, 'train_spam_in_rows': 675, 'train_ham_in_rows': 125, 'test_spam_in_rows': 230, 'test_ham_in_rows': 70}\n",
      "{'accuracy': 0.91, 'precision': 0.9684684684684685, 'recall': 0.9148936170212766, 'train_spam_in_rows': 675, 'train_ham_in_rows': 125, 'test_spam_in_rows': 230, 'test_ham_in_rows': 70}\n",
      "{'accuracy': 0.92, 'precision': 1.0, 'recall': 0.9051383399209486, 'train_spam_in_rows': 675, 'train_ham_in_rows': 125, 'test_spam_in_rows': 230, 'test_ham_in_rows': 70}\n",
      "{'accuracy': 0.9166666666666666, 'precision': 0.9913419913419913, 'recall': 0.9087301587301587, 'train_spam_in_rows': 675, 'train_ham_in_rows': 125, 'test_spam_in_rows': 230, 'test_ham_in_rows': 70}\n",
      "训练集数量：800，测试集数量：300\n",
      "\n",
      "accuracy: 0.8933333333333333 ,precision: 0.9885637260637261 ,recall: 0.8767557463094003\n"
     ],
     "output_type": "stream"
    }
   ],
   "source": [
    "import re\n",
    "import json\n",
    "from numpy import *\n",
    "path = './result/800_300'\n",
    "str = []\n",
    "accuracy = []\n",
    "precision = []\n",
    "recall = []\n",
    "\n",
    "with open(path,'r') as f:\n",
    "    lines = f.readlines()\n",
    "for line in lines:\n",
    "    line = re.sub('\\n','',line)\n",
    "    str.append(line)\n",
    "for i in str:\n",
    "    j = json.loads(i)\n",
    "    print(j)\n",
    "    accuracy.append(j['accuracy'])\n",
    "    precision.append(j['precision'])\n",
    "    recall.append(j['recall'])\n",
    "print('训练集数量：800，测试集数量：300\\n')\n",
    "print('accuracy:',mean(accuracy),',precision:',mean(precision),',recall:',mean(recall))"
   ],
   "metadata": {
    "collapsed": false,
    "pycharm": {
     "name": "#%%\n",
     "is_executing": false
    }
   }
  },
  {
   "cell_type": "code",
   "execution_count": 9,
   "outputs": [
    {
     "name": "stdout",
     "text": [
      "{'accuracy': 0.91, 'precision': 0.9797979797979798, 'recall': 0.8940092165898618, 'train_spam_in_rows': 827, 'train_ham_in_rows': 173, 'test_spam_in_rows': 217, 'test_ham_in_rows': 83}\n",
      "{'accuracy': 0.9266666666666666, 'precision': 0.9864864864864865, 'recall': 0.9201680672268907, 'train_spam_in_rows': 827, 'train_ham_in_rows': 173, 'test_spam_in_rows': 217, 'test_ham_in_rows': 83}\n",
      "{'accuracy': 0.9066666666666666, 'precision': 0.9778761061946902, 'recall': 0.9057377049180327, 'train_spam_in_rows': 827, 'train_ham_in_rows': 173, 'test_spam_in_rows': 217, 'test_ham_in_rows': 83}\n",
      "{'accuracy': 0.9333333333333333, 'precision': 0.9782608695652174, 'recall': 0.9375, 'train_spam_in_rows': 827, 'train_ham_in_rows': 173, 'test_spam_in_rows': 217, 'test_ham_in_rows': 83}\n",
      "训练集数量：1000，测试集数量：300\n",
      "\n",
      "accuracy: 0.9191666666666667 ,precision: 0.9806053605110935 ,recall: 0.9143537471836963\n"
     ],
     "output_type": "stream"
    }
   ],
   "source": [
    "import re\n",
    "import json\n",
    "from numpy import *\n",
    "path = './result/1000_300'\n",
    "str = []\n",
    "accuracy = []\n",
    "precision = []\n",
    "recall = []\n",
    "\n",
    "with open(path,'r') as f:\n",
    "    lines = f.readlines()\n",
    "for line in lines:\n",
    "    line = re.sub('\\n','',line)\n",
    "    str.append(line)\n",
    "for i in str:\n",
    "    j = json.loads(i)\n",
    "    print(j)\n",
    "    accuracy.append(j['accuracy'])\n",
    "    precision.append(j['precision'])\n",
    "    recall.append(j['recall'])\n",
    "print('训练集数量：1000，测试集数量：300\\n')\n",
    "print('accuracy:',mean(accuracy),',precision:',mean(precision),',recall:',mean(recall))"
   ],
   "metadata": {
    "collapsed": false,
    "pycharm": {
     "name": "#%%\n",
     "is_executing": false
    }
   }
  },
  {
   "cell_type": "code",
   "execution_count": 10,
   "outputs": [
    {
     "name": "stdout",
     "text": [
      "{'accuracy': 0.9225, 'precision': 0.96875, 'recall': 0.9269102990033222, 'train_spam_in_rows': 1177, 'train_ham_in_rows': 323, 'test_spam_in_rows': 301, 'test_ham_in_rows': 99}\n",
      "{'accuracy': 0.9075, 'precision': 0.9766666666666667, 'recall': 0.9071207430340558, 'train_spam_in_rows': 1177, 'train_ham_in_rows': 323, 'test_spam_in_rows': 301, 'test_ham_in_rows': 99}\n",
      "{'accuracy': 0.9375, 'precision': 0.9863945578231292, 'recall': 0.932475884244373, 'train_spam_in_rows': 1177, 'train_ham_in_rows': 323, 'test_spam_in_rows': 301, 'test_ham_in_rows': 99}\n",
      "{'accuracy': 0.95, 'precision': 0.979933110367893, 'recall': 0.9543973941368078, 'train_spam_in_rows': 1177, 'train_ham_in_rows': 323, 'test_spam_in_rows': 301, 'test_ham_in_rows': 99}\n",
      "训练集数量：1500，测试集数量：400\n",
      "\n",
      "accuracy: 0.9293750000000001 ,precision: 0.9779360837144222 ,recall: 0.9302260801046397\n"
     ],
     "output_type": "stream"
    }
   ],
   "source": [
    "import re\n",
    "import json\n",
    "from numpy import *\n",
    "path = './result/1500_400'\n",
    "str = []\n",
    "accuracy = []\n",
    "precision = []\n",
    "recall = []\n",
    "\n",
    "with open(path,'r') as f:\n",
    "    lines = f.readlines()\n",
    "for line in lines:\n",
    "    line = re.sub('\\n','',line)\n",
    "    str.append(line)\n",
    "for i in str:\n",
    "    j = json.loads(i)\n",
    "    print(j)\n",
    "    accuracy.append(j['accuracy'])\n",
    "    precision.append(j['precision'])\n",
    "    recall.append(j['recall'])\n",
    "print('训练集数量：1500，测试集数量：400\\n')\n",
    "print('accuracy:',mean(accuracy),',precision:',mean(precision),',recall:',mean(recall))"
   ],
   "metadata": {
    "collapsed": false,
    "pycharm": {
     "name": "#%%\n",
     "is_executing": false
    }
   }
  },
  {
   "cell_type": "code",
   "execution_count": 11,
   "outputs": [
    {
     "name": "stdout",
     "text": [
      "{'accuracy': 0.952, 'precision': 0.9622093023255814, 'recall': 0.9678362573099415, 'train_spam_in_rows': 2263, 'train_ham_in_rows': 737, 'test_spam_in_rows': 342, 'test_ham_in_rows': 158}\n",
      "{'accuracy': 0.946, 'precision': 0.9699453551912568, 'recall': 0.9568733153638814, 'train_spam_in_rows': 2263, 'train_ham_in_rows': 737, 'test_spam_in_rows': 342, 'test_ham_in_rows': 158}\n",
      "{'accuracy': 0.97, 'precision': 0.9833333333333333, 'recall': 0.9752066115702479, 'train_spam_in_rows': 2263, 'train_ham_in_rows': 737, 'test_spam_in_rows': 342, 'test_ham_in_rows': 158}\n",
      "训练集数量：3000，测试集数量：500\n",
      "\n",
      "accuracy: 0.956 ,precision: 0.9718293302833905 ,recall: 0.966638728081357\n"
     ],
     "output_type": "stream"
    }
   ],
   "source": [
    "import re\n",
    "import json\n",
    "from numpy import *\n",
    "path = './result/3000_500'\n",
    "str = []\n",
    "accuracy = []\n",
    "precision = []\n",
    "recall = []\n",
    "\n",
    "with open(path,'r') as f:\n",
    "    lines = f.readlines()\n",
    "for line in lines:\n",
    "    line = re.sub('\\n','',line)\n",
    "    str.append(line)\n",
    "for i in str:\n",
    "    j = json.loads(i)\n",
    "    print(j)\n",
    "    accuracy.append(j['accuracy'])\n",
    "    precision.append(j['precision'])\n",
    "    recall.append(j['recall'])\n",
    "print('训练集数量：3000，测试集数量：500\\n')\n",
    "print('accuracy:',mean(accuracy),',precision:',mean(precision),',recall:',mean(recall))"
   ],
   "metadata": {
    "collapsed": false,
    "pycharm": {
     "name": "#%%\n",
     "is_executing": false
    }
   }
  }
 ],
 "metadata": {
  "kernelspec": {
   "name": "pycharm-64d3178b",
   "language": "python",
   "display_name": "PyCharm (微博用户画像)"
  },
  "language_info": {
   "codemirror_mode": {
    "name": "ipython",
    "version": 2
   },
   "file_extension": ".py",
   "mimetype": "text/x-python",
   "name": "python",
   "nbconvert_exporter": "python",
   "pygments_lexer": "ipython2",
   "version": "2.7.6"
  },
  "pycharm": {
   "stem_cell": {
    "cell_type": "raw",
    "source": [],
    "metadata": {
     "collapsed": false
    }
   }
  }
 },
 "nbformat": 4,
 "nbformat_minor": 0
}